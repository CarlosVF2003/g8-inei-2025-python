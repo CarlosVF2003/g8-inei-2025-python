{
 "cells": [
  {
   "cell_type": "code",
   "execution_count": null,
   "id": "ae8d553b",
   "metadata": {
    "vscode": {
     "languageId": "plaintext"
    }
   },
   "outputs": [],
   "source": [
    "x = 0\n",
    "x"
   ]
  },
  {
   "cell_type": "code",
   "execution_count": null,
   "id": "17371994",
   "metadata": {
    "vscode": {
     "languageId": "plaintext"
    }
   },
   "outputs": [],
   "source": [
    "#Este es mi modulo de lista\n",
    "def promedio_lista(numeros):\n",
    "    \"\"\"\n",
    "    Calcula el promedio de una lista de numeros.\n",
    "    \"\"\"\n",
    "    # if len(numeros) == 0:\n",
    "    if not numeros:\n",
    "        return 0\n",
    "    else:\n",
    "        return sum(numeros)/len(numeros)"
   ]
  },
  {
   "cell_type": "code",
   "execution_count": null,
   "id": "3721a5f0",
   "metadata": {
    "vscode": {
     "languageId": "plaintext"
    }
   },
   "outputs": [],
   "source": [
    "def invertir_lista(lista):\n",
    "    \"\"\"\n",
    "    Invierte una lista de numeros.\n",
    "    \"\"\"\n",
    "    return lista[::-1]"
   ]
  },
  {
   "cell_type": "code",
   "execution_count": null,
   "id": "03fc077e",
   "metadata": {
    "vscode": {
     "languageId": "plaintext"
    }
   },
   "outputs": [],
   "source": [
    "def mayores_que(lista, umbral):\n",
    "    \"\"\"\n",
    "    Devuelve una lista con los elementos mayores que un umbral.\n",
    "    \"\"\"\n",
    "    return [x for x in lista if x > umbral]"
   ]
  },
  {
   "cell_type": "code",
   "execution_count": null,
   "metadata": {
    "vscode": {
     "languageId": "plaintext"
    }
   },
   "outputs": [],
   "source": [
    "def eliminar_valores(lista, valor):\n",
    "    \"\"\"\n",
    "    elimina todas las ocurrencias de un valor en una lista.\n",
    "    \"\"\"\n",
    "    return [x for x in lista if x != valor]"
   ]
  },
  {
   "cell_type": "code",
   "execution_count": null,
   "metadata": {
    "vscode": {
     "languageId": "plaintext"
    }
   },
   "outputs": [],
   "source": [
    "def intercalar_listas(lista1, lista2):\n",
    "    \"\"\"\n",
    "    intercala los elementos de dos listas.\n",
    "    \"\"\"\n",
    "    return [x for par in zip(lista1, lista2) for x in par]"
   ]
  }
 ],
 "metadata": {
  "language_info": {
   "name": "python"
  }
 },
 "nbformat": 4,
 "nbformat_minor": 5
}
